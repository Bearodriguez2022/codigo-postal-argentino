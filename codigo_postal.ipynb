{
  "nbformat": 4,
  "nbformat_minor": 0,
  "metadata": {
    "colab": {
      "provenance": [],
      "authorship_tag": "ABX9TyO/BbI8O5DaIrBMgpQfjNB/",
      "include_colab_link": true
    },
    "kernelspec": {
      "name": "python3",
      "display_name": "Python 3"
    },
    "language_info": {
      "name": "python"
    }
  },
  "cells": [
    {
      "cell_type": "markdown",
      "metadata": {
        "id": "view-in-github",
        "colab_type": "text"
      },
      "source": [
        "<a href=\"https://colab.research.google.com/github/Bearodriguez2022/codigo-postal-argentino/blob/main/codigo_postal.ipynb\" target=\"_parent\"><img src=\"https://colab.research.google.com/assets/colab-badge.svg\" alt=\"Open In Colab\"/></a>"
      ]
    },
    {
      "cell_type": "code",
      "execution_count": 1,
      "metadata": {
        "id": "zxOO0ZMjXLVE"
      },
      "outputs": [],
      "source": [
        "import requests\n",
        "from bs4 import BeautifulSoup\n",
        "import csv\n"
      ]
    },
    {
      "cell_type": "code",
      "source": [
        "#averiguar que formato tiene la página\n",
        "\n",
        "url = 'https://codigo-postal.co/argentina/mendoza/mendoza/12-de-febrero/'\n",
        "response = requests.head(url)\n",
        "content_type = response.headers.get('content-type')\n",
        "\n",
        "print(\"Tipo de contenido:\", content_type)\n"
      ],
      "metadata": {
        "colab": {
          "base_uri": "https://localhost:8080/"
        },
        "id": "SRQF1pJ5arud",
        "outputId": "f837f70b-cc48-4226-833d-6cd4c30f1d1f"
      },
      "execution_count": 21,
      "outputs": [
        {
          "output_type": "stream",
          "name": "stdout",
          "text": [
            "Tipo de contenido: text/html; charset=UTF-8\n"
          ]
        }
      ]
    },
    {
      "cell_type": "code",
      "source": [
        "\n",
        "url = 'https://codigo-postal.co/argentina/mendoza/mendoza/12-de-febrero/'\n",
        "response = requests.get(url)\n",
        "content = response.content\n",
        "\n",
        "soup = BeautifulSoup(content, 'html.parser')"
      ],
      "metadata": {
        "id": "NIlQYXcXbnyM"
      },
      "execution_count": 9,
      "outputs": []
    },
    {
      "cell_type": "code",
      "source": [
        "url = 'https://codigo-postal.co/argentina/mendoza/mendoza/12-de-febrero/'\n",
        "response = requests.get(url)\n",
        "content = response.content"
      ],
      "metadata": {
        "id": "qHjyHPHbXYxM"
      },
      "execution_count": 2,
      "outputs": []
    },
    {
      "cell_type": "code",
      "source": [
        "soup = BeautifulSoup(content, 'html.parser')\n"
      ],
      "metadata": {
        "id": "lbMa2Ll8Xdge"
      },
      "execution_count": 10,
      "outputs": []
    },
    {
      "cell_type": "code",
      "source": [
        "import requests\n",
        "from lxml import html\n",
        "import pandas as pd\n",
        "\n",
        "url = 'https://codigo-postal.co/argentina/mendoza/mendoza/12-de-febrero/'\n",
        "response = requests.get(url)\n",
        "content = response.content\n",
        "\n",
        "tree = html.fromstring(content)\n",
        "\n",
        "data = []\n",
        "table = tree.xpath('//table[@class=\"table table-striped\"]')[0]\n",
        "rows = table.xpath('.//tr')\n",
        "\n",
        "# Encabezados de las columnas\n",
        "header_row = rows[0]\n",
        "header_cols = header_row.xpath('.//th')\n",
        "headers = [col.text_content().strip() for col in header_cols]\n",
        "\n",
        "# Índices de las columnas deseadas\n",
        "column_indices = [headers.index(column_name) for column_name in ['Calle/Avenida', 'desde', 'hasta', 'aplica a', 'Código Postal', 'CPA']]\n",
        "\n",
        "# Datos de las filas\n",
        "for row in rows[1:]:\n",
        "    cols = row.xpath('.//td')\n",
        "    row_data = [col.text_content().strip() for col in cols]\n",
        "    data.append(row_data)\n",
        "\n",
        "# Crear un DataFrame con los datos extraídos\n",
        "df = pd.DataFrame(data, columns=['Calle/Avenida', 'desde', 'hasta', 'aplica a', 'Código Postal', 'CPA'])\n",
        "\n",
        "print(df)\n"
      ],
      "metadata": {
        "colab": {
          "base_uri": "https://localhost:8080/",
          "height": 235
        },
        "id": "-FwlxjR8hHaV",
        "outputId": "577d7509-1016-4a45-b843-d1dfd5f35af2"
      },
      "execution_count": 22,
      "outputs": [
        {
          "output_type": "error",
          "ename": "IndexError",
          "evalue": "ignored",
          "traceback": [
            "\u001b[0;31m---------------------------------------------------------------------------\u001b[0m",
            "\u001b[0;31mIndexError\u001b[0m                                Traceback (most recent call last)",
            "\u001b[0;32m<ipython-input-22-971792bb8409>\u001b[0m in \u001b[0;36m<cell line: 12>\u001b[0;34m()\u001b[0m\n\u001b[1;32m     10\u001b[0m \u001b[0;34m\u001b[0m\u001b[0m\n\u001b[1;32m     11\u001b[0m \u001b[0mdata\u001b[0m \u001b[0;34m=\u001b[0m \u001b[0;34m[\u001b[0m\u001b[0;34m]\u001b[0m\u001b[0;34m\u001b[0m\u001b[0;34m\u001b[0m\u001b[0m\n\u001b[0;32m---> 12\u001b[0;31m \u001b[0mtable\u001b[0m \u001b[0;34m=\u001b[0m \u001b[0mtree\u001b[0m\u001b[0;34m.\u001b[0m\u001b[0mxpath\u001b[0m\u001b[0;34m(\u001b[0m\u001b[0;34m'//table[@class=\"table table-striped\"]'\u001b[0m\u001b[0;34m)\u001b[0m\u001b[0;34m[\u001b[0m\u001b[0;36m0\u001b[0m\u001b[0;34m]\u001b[0m\u001b[0;34m\u001b[0m\u001b[0;34m\u001b[0m\u001b[0m\n\u001b[0m\u001b[1;32m     13\u001b[0m \u001b[0mrows\u001b[0m \u001b[0;34m=\u001b[0m \u001b[0mtable\u001b[0m\u001b[0;34m.\u001b[0m\u001b[0mxpath\u001b[0m\u001b[0;34m(\u001b[0m\u001b[0;34m'.//tr'\u001b[0m\u001b[0;34m)\u001b[0m\u001b[0;34m\u001b[0m\u001b[0;34m\u001b[0m\u001b[0m\n\u001b[1;32m     14\u001b[0m \u001b[0;34m\u001b[0m\u001b[0m\n",
            "\u001b[0;31mIndexError\u001b[0m: list index out of range"
          ]
        }
      ]
    },
    {
      "cell_type": "code",
      "source": [
        "url = 'https://codigo-postal.co/argentina/mendoza/mendoza/12-de-febrero/'\n",
        "response = requests.get(url)\n",
        "content = response.content\n",
        "\n",
        "soup = BeautifulSoup(content, 'html.parser')\n",
        "\n",
        "data = []\n",
        "table = soup.find('table', {'class': 'table table-striped'})\n",
        "rows = table.find_all('tr')\n",
        "\n",
        "# Encabezados de las columnas\n",
        "header_row = rows[0]\n",
        "header_cols = header_row.find_all('th')\n",
        "headers = [col.text.strip() for col in header_cols]\n",
        "\n",
        "# Índices de las columnas deseadas\n",
        "column_indices = [headers.index(column_name) for column_name in ['Calle/Avenida', 'desde', 'hasta', 'aplica a', 'Código Postal', 'CPA']]\n",
        "\n",
        "# Datos de las filas\n",
        "for row in rows[1:]:\n",
        "    cols = row.find_all('td')\n",
        "    row_data = [cols[idx].text.strip() for idx in column_indices]\n",
        "    data.append(row_data)\n",
        "\n",
        "# Crear un DataFrame con los datos extraídos\n",
        "df = pd.DataFrame(data, columns=['Calle/Avenida', 'desde', 'hasta', 'aplica a', 'Código Postal', 'CPA'])\n",
        "\n",
        "print(df)\n"
      ],
      "metadata": {
        "colab": {
          "base_uri": "https://localhost:8080/",
          "height": 235
        },
        "id": "xI6j6azOgM2s",
        "outputId": "3115e435-063b-45ff-de2c-321fb18fe748"
      },
      "execution_count": 23,
      "outputs": [
        {
          "output_type": "error",
          "ename": "AttributeError",
          "evalue": "ignored",
          "traceback": [
            "\u001b[0;31m---------------------------------------------------------------------------\u001b[0m",
            "\u001b[0;31mAttributeError\u001b[0m                            Traceback (most recent call last)",
            "\u001b[0;32m<ipython-input-23-ccc5c96574dc>\u001b[0m in \u001b[0;36m<cell line: 9>\u001b[0;34m()\u001b[0m\n\u001b[1;32m      7\u001b[0m \u001b[0mdata\u001b[0m \u001b[0;34m=\u001b[0m \u001b[0;34m[\u001b[0m\u001b[0;34m]\u001b[0m\u001b[0;34m\u001b[0m\u001b[0;34m\u001b[0m\u001b[0m\n\u001b[1;32m      8\u001b[0m \u001b[0mtable\u001b[0m \u001b[0;34m=\u001b[0m \u001b[0msoup\u001b[0m\u001b[0;34m.\u001b[0m\u001b[0mfind\u001b[0m\u001b[0;34m(\u001b[0m\u001b[0;34m'table'\u001b[0m\u001b[0;34m,\u001b[0m \u001b[0;34m{\u001b[0m\u001b[0;34m'class'\u001b[0m\u001b[0;34m:\u001b[0m \u001b[0;34m'table table-striped'\u001b[0m\u001b[0;34m}\u001b[0m\u001b[0;34m)\u001b[0m\u001b[0;34m\u001b[0m\u001b[0;34m\u001b[0m\u001b[0m\n\u001b[0;32m----> 9\u001b[0;31m \u001b[0mrows\u001b[0m \u001b[0;34m=\u001b[0m \u001b[0mtable\u001b[0m\u001b[0;34m.\u001b[0m\u001b[0mfind_all\u001b[0m\u001b[0;34m(\u001b[0m\u001b[0;34m'tr'\u001b[0m\u001b[0;34m)\u001b[0m\u001b[0;34m\u001b[0m\u001b[0;34m\u001b[0m\u001b[0m\n\u001b[0m\u001b[1;32m     10\u001b[0m \u001b[0;34m\u001b[0m\u001b[0m\n\u001b[1;32m     11\u001b[0m \u001b[0;31m# Encabezados de las columnas\u001b[0m\u001b[0;34m\u001b[0m\u001b[0;34m\u001b[0m\u001b[0m\n",
            "\u001b[0;31mAttributeError\u001b[0m: 'NoneType' object has no attribute 'find_all'"
          ]
        }
      ]
    }
  ]
}